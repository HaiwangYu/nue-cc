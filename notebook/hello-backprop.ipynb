{
 "cells": [
  {
   "cell_type": "code",
   "execution_count": 1,
   "metadata": {},
   "outputs": [
    {
     "name": "stdout",
     "output_type": "stream",
     "text": [
      "output:  tensor([31.4000], grad_fn=<AddBackward0>)\n",
      "grad:  tensor([[3.1400]])\n",
      "before step Parameter containing:\n",
      "tensor([[10.]], requires_grad=True)\n",
      "after step Parameter containing:\n",
      "tensor([[6.8600]], requires_grad=True)\n"
     ]
    }
   ],
   "source": [
    "import torch\n",
    "from torch import nn\n",
    "import torch.optim as optim\n",
    "\n",
    "def DistanceLoss(a, b) :\n",
    "    return torch.dist(a,b)\n",
    "\n",
    "model = nn.Linear(1, 1)\n",
    "optimizer = optim.SGD(model.parameters(), lr=1, momentum=0.9, weight_decay=0)\n",
    "model.weight.data.fill_(10)\n",
    "model.bias.data.fill_(0)\n",
    "\n",
    "x = torch.tensor([3.14])\n",
    "target = torch.tensor([3.14])\n",
    "output = model(x)\n",
    "print('output: ', output)\n",
    "loss = DistanceLoss(output, target)\n",
    "loss.backward()\n",
    "print('grad: ', model.weight.grad)\n",
    "print('before step', model.weight)\n",
    "optimizer.step()\n",
    "print('after step', model.weight)"
   ]
  }
 ],
 "metadata": {
  "kernelspec": {
   "display_name": "Python 3",
   "language": "python",
   "name": "python3"
  },
  "language_info": {
   "codemirror_mode": {
    "name": "ipython",
    "version": 3
   },
   "file_extension": ".py",
   "mimetype": "text/x-python",
   "name": "python",
   "nbconvert_exporter": "python",
   "pygments_lexer": "ipython3",
   "version": "3.6.10"
  }
 },
 "nbformat": 4,
 "nbformat_minor": 4
}
